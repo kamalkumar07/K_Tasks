import numpy as np
def get_matrix(name):
    """Get matrix input from the user."""
    rows = int(input(f"Enter number of rows for {name} matrix: "))
    cols = int(input(f"Enter number of columns for {name} matrix: "))
    matrix = []
    for i in range(rows):
        row = []
        for j in range(cols):
            element = float(input(f"Enter element at position ({i+1}, {j+1}): "))
            row.append(element)
        matrix.append(row)

    return np.array(matrix)
     

def matrix_operations_tool():
    print("\n Matrix Operations Tool ")
    print("1️⃣ Addition\n2️⃣ Subtraction\n3️⃣ Multiplication\n4️⃣ Transpose\n5️⃣ Determinant\n6️⃣ Exit")

    while True:
        try:
            choice = int(input("\nChoose an operation (1-6): "))

            if choice in [1, 2, 3]:  # Operations that require two matrices
                A = get_matrix("First")
                B = get_matrix("Second")

                if choice == 1:
                    print("\n🟢 Result (A + B):\n", add_matrices(A, B))
                elif choice == 2:
                    print("\n🟡 Result (A - B):\n", subtract_matrices(A, B))
                elif choice == 3:
                    print("\n🔵 Result (A × B):\n", multiply_matrices(A, B))

            elif choice in [4, 5]:  # Operations that require one matrix
                A = get_matrix("Single")

                if choice == 4:
                    print("\n🔴 Result (Transpose of A):\n", transpose_matrix(A))
                elif choice == 5:
                    print("\n🟠 Determinant of A:\n", determinant_matrix(A))

            elif choice == 6:
                print("🔚 Exiting... Thank you! 😊")
                break

            else:
                print("⚠️ Invalid choice! Please select a number between 1-6.")

        except ValueError:
            print("⚠️ Error: Please enter a valid number!")

# Run the tool
matrix_operations_tool()
